{
 "cells": [
  {
   "cell_type": "markdown",
   "id": "ed4ee68b",
   "metadata": {},
   "source": [
    "<div style=\"color: white;padding-top:15px;text-align:center;background-color:darkblue;border-radius:40px;border: 1px solid white;\"> \n",
    "    <h3>IN THE NAME OF GOD</h3>\n",
    "</div>"
   ]
  },
  {
   "cell_type": "markdown",
   "id": "4fbc08c1",
   "metadata": {},
   "source": [
    "<div style=\"color: darkblue;text-align:center;\"> \n",
    "    <h3>Exercises 03</h3>\n",
    "    <hr>\n",
    "</div>"
   ]
  },
  {
   "cell_type": "markdown",
   "id": "31cd38da",
   "metadata": {},
   "source": [
    "# Q1"
   ]
  },
  {
   "cell_type": "code",
   "execution_count": 54,
   "id": "d38203c1",
   "metadata": {},
   "outputs": [
    {
     "name": "stdout",
     "output_type": "stream",
     "text": [
      "Please enter the string : keep moving!\n",
      "First character of \"keep moving!\" is: k\n",
      "Middle characters of \"keep moving!\" is: mo\n",
      "Last character of \"keep moving!\" is: !\n"
     ]
    }
   ],
   "source": [
    "# find slicing----> First , Middle , Last\n",
    "str1 = input(\"Please enter the string : \")\n",
    "l = len(str1)\n",
    "x = l // 2\n",
    "if l % 2 == 0:\n",
    "    y = str1[x -1 : x +1]\n",
    "else :\n",
    "    y = str1[x]\n",
    "print(f'First character of \"{str1}\" is: {str1[0]}')\n",
    "print(f'Middle characters of \"{str1}\" is: {y}')\n",
    "print(f'Last character of \"{str1}\" is: {str1[-1]}')"
   ]
  },
  {
   "cell_type": "markdown",
   "id": "5ad28743",
   "metadata": {},
   "source": [
    "# Q2"
   ]
  },
  {
   "cell_type": "code",
   "execution_count": 9,
   "id": "8e3207ab",
   "metadata": {},
   "outputs": [
    {
     "name": "stdout",
     "output_type": "stream",
     "text": [
      "please enter the string1 : skjskjgs\n",
      "please enter the string2 : dsfk\n",
      "please enter the string3 : sdflsfgkls\n",
      "str1 : skjskjgs\n",
      "str3 : sdflsfgkls\n"
     ]
    }
   ],
   "source": [
    "# Displaying a string larger than the average of 3 strings\n",
    "str1=input(\"please enter the string1 : \")\n",
    "str2=input(\"please enter the string2 : \")\n",
    "str3=input(\"please enter the string3 : \")\n",
    "ave = len(str1+str2+str3)/3\n",
    "if len(str1) > ave:\n",
    "    print(f\"str1 : {str1}\")\n",
    "if len(str2) > ave:\n",
    "    print(f\"str2 : {str2}\")\n",
    "if len(str3) > ave :\n",
    "    print(f\"str3 : {str3}\")"
   ]
  },
  {
   "cell_type": "markdown",
   "id": "86069cb5",
   "metadata": {},
   "source": [
    "# Q3"
   ]
  },
  {
   "cell_type": "code",
   "execution_count": 2,
   "id": "d637b168",
   "metadata": {},
   "outputs": [
    {
     "name": "stdout",
     "output_type": "stream",
     "text": [
      "Please enter the string1 : at day\n",
      "Please enter the string2 : at\n",
      " Day\n"
     ]
    }
   ],
   "source": [
    "# Add or remove\n",
    "t1 = input(\"Please enter the string1 : \")\n",
    "t2 = input(\"Please enter the string2 : \")\n",
    "t1 = t1.lower()\n",
    "t2 = t2.lower()\n",
    "t1 = t1.title()\n",
    "t2 = t2.title()\n",
    "if t2 in t1:\n",
    "    t1 = t1.replace(t2 ,\"\")\n",
    "    print(t1)\n",
    "else:\n",
    "    print(f\"{t2} {t1} {t2}\")"
   ]
  },
  {
   "cell_type": "markdown",
   "id": "f1e965db",
   "metadata": {},
   "source": [
    "# Q4"
   ]
  },
  {
   "cell_type": "code",
   "execution_count": 4,
   "id": "54d6f22d",
   "metadata": {},
   "outputs": [
    {
     "name": "stdout",
     "output_type": "stream",
     "text": [
      "0000000lunch00000000\n",
      "       lunch        \n"
     ]
    }
   ],
   "source": [
    "# 4 New Method\n",
    "# 1-center \n",
    "s = \"lunch\"\n",
    "x = s.center(20 , \"0\") # (Length , \"Character\")\n",
    "y = s.center(20)\n",
    "print(x)\n",
    "print(y)"
   ]
  },
  {
   "cell_type": "code",
   "execution_count": 5,
   "id": "fd5f2990",
   "metadata": {},
   "outputs": [
    {
     "name": "stdout",
     "output_type": "stream",
     "text": [
      "False\n",
      "True\n"
     ]
    }
   ],
   "source": [
    "# 2-endswith ----> True or False ----> end str (Does it exist or not?)\n",
    "txt = \"Hi my friend.\"\n",
    "x = txt.endswith(\"!\")\n",
    "y = txt.endswith(\".\")\n",
    "print(x)\n",
    "print(y)"
   ]
  },
  {
   "cell_type": "code",
   "execution_count": 6,
   "id": "1a19db27",
   "metadata": {},
   "outputs": [
    {
     "name": "stdout",
     "output_type": "stream",
     "text": [
      "please enter the txt : sadsdf\n",
      "True\n"
     ]
    }
   ],
   "source": [
    "# 3-isalnum-----> True ----> just [(a-z),(1-9)] ,False----> Non-alphabetic and non-numeric characters (\"\",!,@,#,$,...)\n",
    "txt = input(\"please enter the txt : \")\n",
    "x = txt.isalnum()\n",
    "print(x)"
   ]
  },
  {
   "cell_type": "code",
   "execution_count": 3,
   "id": "ec4ae579",
   "metadata": {},
   "outputs": [
    {
     "name": "stdout",
     "output_type": "stream",
     "text": [
      "hELLO mY nAME iS peter\n"
     ]
    }
   ],
   "source": [
    "# 4-Swapcase ------->Convert uppercase to lowercase\n",
    "txt = \"Hello My Name Is PETER\"\n",
    "x = txt.swapcase()\n",
    "print(x)"
   ]
  },
  {
   "cell_type": "markdown",
   "id": "f0a7e5a9",
   "metadata": {},
   "source": [
    "<div style=\"color: white;padding-top:15px;text-align:center;background-color:darkblue;border-radius:40px;border: 1px solid white;\"> \n",
    "    <h3>Thanks, Good Luck!</h3>\n",
    "</div>"
   ]
  }
 ],
 "metadata": {
  "kernelspec": {
   "display_name": "Python 3 (ipykernel)",
   "language": "python",
   "name": "python3"
  },
  "language_info": {
   "codemirror_mode": {
    "name": "ipython",
    "version": 3
   },
   "file_extension": ".py",
   "mimetype": "text/x-python",
   "name": "python",
   "nbconvert_exporter": "python",
   "pygments_lexer": "ipython3",
   "version": "3.10.9"
  }
 },
 "nbformat": 4,
 "nbformat_minor": 5
}
