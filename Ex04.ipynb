{
 "cells": [
  {
   "cell_type": "markdown",
   "id": "bb5d9180",
   "metadata": {},
   "source": [
    "<div style=\"color: white;padding-top:15px;text-align:center;background-color:darkblue;border-radius:40px;border: 1px solid white;\"> \n",
    "    <h3>IN THE NAME OF GOD</h3>\n",
    "</div>"
   ]
  },
  {
   "cell_type": "markdown",
   "id": "9af48f9b",
   "metadata": {},
   "source": [
    "<div style=\"color: darkblue;text-align:center;\"> \n",
    "    <h3>Exercises 04</h3>\n",
    "    <hr>\n",
    "</div>"
   ]
  },
  {
   "cell_type": "markdown",
   "id": "7ea2d3b6",
   "metadata": {},
   "source": [
    "# Q1"
   ]
  },
  {
   "cell_type": "code",
   "execution_count": 30,
   "id": "9716f863",
   "metadata": {},
   "outputs": [
    {
     "name": "stdout",
     "output_type": "stream",
     "text": [
      "P\n",
      "PY\n",
      "PYT\n",
      "PYTH\n",
      "PYTHO\n",
      "PYTHON\n"
     ]
    }
   ],
   "source": [
    "# show pattern in Question\n",
    "str1 = \"PYTHON\"\n",
    "for i in range(len(str1)):\n",
    "    print(str1[:i+1])"
   ]
  },
  {
   "cell_type": "markdown",
   "id": "9528ecc3",
   "metadata": {},
   "source": [
    "# Q2"
   ]
  },
  {
   "cell_type": "code",
   "execution_count": 2,
   "id": "45c92389",
   "metadata": {},
   "outputs": [
    {
     "name": "stdout",
     "output_type": "stream",
     "text": [
      "19\n"
     ]
    }
   ],
   "source": [
    "# Find the number of vowel characters (a, e, i, o, u) in the text below.\n",
    "# The first method\n",
    "str1 = \"Python isa high-level, general-purpose programming language.\"\n",
    "#v = [\"a\",\"e\",\"i\",\"o\",\"u\"]\n",
    "a = 0\n",
    "e = 0\n",
    "i = 0\n",
    "o = 0\n",
    "u = 0\n",
    "for l in range(len(str1)):\n",
    "    if str1[l] == \"a\": #5\n",
    "        a = a + 1\n",
    "    if str1[l] == \"e\": #6\n",
    "        e = e + 1\n",
    "    if str1[l] == \"i\": #3\n",
    "        i = i + 1\n",
    "    if str1[l] == \"o\": #3\n",
    "        o = o + 1\n",
    "    if str1[l] == \"u\": #2\n",
    "        u = u + 1\n",
    "print(a + e + i + o + u)"
   ]
  },
  {
   "cell_type": "code",
   "execution_count": 40,
   "id": "32bc842d",
   "metadata": {},
   "outputs": [
    {
     "name": "stdout",
     "output_type": "stream",
     "text": [
      "19\n"
     ]
    }
   ],
   "source": [
    "# The second method\n",
    "v = [\"a\",\"e\",\"i\",\"o\",\"u\"]\n",
    "c = 0\n",
    "for l in str1:\n",
    "    if l in v :\n",
    "        c += 1\n",
    "print(c)"
   ]
  },
  {
   "cell_type": "markdown",
   "id": "3075224d",
   "metadata": {},
   "source": [
    "# Q3"
   ]
  },
  {
   "cell_type": "code",
   "execution_count": 3,
   "id": "22d16d1e",
   "metadata": {},
   "outputs": [
    {
     "name": "stdout",
     "output_type": "stream",
     "text": [
      "Please enter the number : 5\n",
      "5 * 0 = 0\n",
      "5 * 2 = 10\n",
      "5 * 4 = 20\n",
      "5 * 6 = 30\n",
      "5 * 8 = 40\n",
      "5 * 10 = 50\n"
     ]
    }
   ],
   "source": [
    "# show pattern in Question\n",
    "num =int(float(input(\"Please enter the number : \")))\n",
    "for i in range(0,11,2):\n",
    "    multi = num * i\n",
    "    print(f\"{num} * {i} = {multi}\")"
   ]
  },
  {
   "cell_type": "markdown",
   "id": "10948679",
   "metadata": {},
   "source": [
    "# Q4"
   ]
  },
  {
   "cell_type": "code",
   "execution_count": 4,
   "id": "a1ca4fd9",
   "metadata": {},
   "outputs": [
    {
     "name": "stdout",
     "output_type": "stream",
     "text": [
      "Please enter the number : 5\n",
      "5 / 0 = Error\n",
      "5 / 1 = 5\n",
      "5 / 2 = 2\n",
      "5 / 3 = 1\n",
      "5 / 4 = 1\n"
     ]
    }
   ],
   "source": [
    "# show pattern in Question\n",
    "num = int(float(input(\"Please enter the number : \")))\n",
    "for i in range(0, 5):\n",
    "    if i == 0:\n",
    "        print(f\"{num} / 0 = Error\")\n",
    "    else:\n",
    "        divide = num // i\n",
    "        print(f\"{num} / {i} = {divide}\")"
   ]
  },
  {
   "cell_type": "markdown",
   "id": "56309c19",
   "metadata": {},
   "source": [
    "<div style=\"color: white;padding-top:15px;text-align:center;background-color:darkblue;border-radius:40px;border: 1px solid white;\"> \n",
    "    <h3>Thanks, Good Luck!🙃😊🌱🌺</h3>\n",
    "</div>"
   ]
  }
 ],
 "metadata": {
  "kernelspec": {
   "display_name": "Python 3 (ipykernel)",
   "language": "python",
   "name": "python3"
  },
  "language_info": {
   "codemirror_mode": {
    "name": "ipython",
    "version": 3
   },
   "file_extension": ".py",
   "mimetype": "text/x-python",
   "name": "python",
   "nbconvert_exporter": "python",
   "pygments_lexer": "ipython3",
   "version": "3.10.9"
  }
 },
 "nbformat": 4,
 "nbformat_minor": 5
}
